{
 "cells": [
  {
   "cell_type": "code",
   "execution_count": null,
   "metadata": {},
   "outputs": [],
   "source": [
    "import pandas as pd\n",
    "import shap\n",
    "import mlflow\n",
    "import os\n",
    "\n",
    "def explain_model(model_name, data_path, target_col):\n",
    "    model = mlflow.sklearn.load_model(f\"models:/{model_name}/latest\")\n",
    "    df = pd.read_csv(data_path)\n",
    "    X = df.drop(target_col, axis=1)\n",
    "\n",
    "    explainer = shap.TreeExplainer(model)\n",
    "    shap_values = explainer.shap_values(X)\n",
    "\n",
    "    # Create a directory to save the model explainability plots\n",
    "    explainability_dir = \"explainability\"\n",
    "    if not os.path.exists(explainability_dir):\n",
    "        os.makedirs(explainability_dir)\n",
    "\n",
    "    # Save the SHAP summary plot\n",
    "    shap.summary_plot(shap_values, X, plot_file=os.path.join(explainability_dir, f\"{model_name}_shap_summary.png\"))\n",
    "\n",
    "    # Save the SHAP dependency plot\n",
    "    for i, feature in enumerate(X.columns):\n",
    "        shap.dependence_plot(feature, shap_values[i], X, plot_file=os.path.join(explainability_dir, f\"{model_name}_{feature}_shap_dependence.png\"))\n",
    "\n",
    "if __name__ == \"__main__\":\n",
    "    for model_name, _ in models.items():\n",
    "        explain_model(f\"{model_name}_fraud\", \"data/processed/processed_Fraud_Data.csv\", \"class\")\n",
    "        explain_model(f\"{model_name}_credit\", \"data/processed/processed_creditcard.csv\", \"Class\")"
   ]
  },
  {
   "cell_type": "markdown",
   "metadata": {},
   "source": []
  }
 ],
 "metadata": {
  "kernelspec": {
   "display_name": "Python 3",
   "language": "python",
   "name": "python3"
  },
  "language_info": {
   "codemirror_mode": {
    "name": "ipython",
    "version": 3
   },
   "file_extension": ".py",
   "mimetype": "text/x-python",
   "name": "python",
   "nbconvert_exporter": "python",
   "pygments_lexer": "ipython3",
   "version": "3.10.12"
  }
 },
 "nbformat": 4,
 "nbformat_minor": 2
}
